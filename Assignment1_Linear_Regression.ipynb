{
  "nbformat": 4,
  "nbformat_minor": 0,
  "metadata": {
    "colab": {
      "name": "Assignment1_linear_regression.ipynb",
      "provenance": [],
      "collapsed_sections": []
    },
    "kernelspec": {
      "name": "python3",
      "display_name": "Python 3"
    }
  },
  "cells": [
    {
      "cell_type": "markdown",
      "metadata": {
        "id": "rA58l7pju5v7"
      },
      "source": [
        "# **Kenny Huang, Danny Hong, Arthur Skok**"
      ]
    },
    {
      "cell_type": "code",
      "metadata": {
        "id": "9TJUJYnbLlWs",
        "colab": {
          "base_uri": "https://localhost:8080/",
          "height": 51
        },
        "outputId": "4fa6a0e7-55d7-4cab-bb58-6f3939f9fc07"
      },
      "source": [
        "'''\n",
        "SOURCES USED\n",
        "  Loading a Dataset from the UCI Machine Learning Repository: https://subscription.packtpub.com/video/data/9781789950922/p1/video1_5/loading-a-dataset-from-the-uci-machine-learning-repository\n",
        "  Wine UCI: https://archive.ics.uci.edu/ml/datasets/Wine\n",
        "  Train, validation, test: https://stackoverflow.com/questions/38250710/how-to-split-data-into-3-sets-train-validation-and-test\n",
        "'''"
      ],
      "execution_count": null,
      "outputs": [
        {
          "output_type": "execute_result",
          "data": {
            "application/vnd.google.colaboratory.intrinsic": {
              "type": "string"
            },
            "text/plain": [
              "'\\nSOURCES USED\\n  Loading a Dataset from the UCI Machine Learning Repository: https://subscription.packtpub.com/video/data/9781789950922/p1/video1_5/loading-a-dataset-from-the-uci-machine-learning-repository\\n  Wine UCI: https://archive.ics.uci.edu/ml/datasets/Wine\\n  Train, validation, test: https://stackoverflow.com/questions/38250710/how-to-split-data-into-3-sets-train-validation-and-test\\n'"
            ]
          },
          "metadata": {
            "tags": []
          },
          "execution_count": 82
        }
      ]
    },
    {
      "cell_type": "markdown",
      "metadata": {
        "id": "oloYX_Sh8Q2C"
      },
      "source": [
        "# Upload"
      ]
    },
    {
      "cell_type": "code",
      "metadata": {
        "id": "xdXb-NbkIu44",
        "colab": {
          "resources": {
            "http://localhost:8080/nbextensions/google.colab/files.js": {
              "data": "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",
              "ok": true,
              "headers": [
                [
                  "content-type",
                  "application/javascript"
                ]
              ],
              "status": 200,
              "status_text": ""
            }
          },
          "base_uri": "https://localhost:8080/",
          "height": 73
        },
        "outputId": "a7a02712-d0bd-498c-8d33-848a50d6ec9f"
      },
      "source": [
        "# download the forestfires.csv and upload here\n",
        "# https://archive.ics.uci.edu/ml/datasets/Forest+Fires\n",
        "from google.colab import files\n",
        "uploaded = files.upload()"
      ],
      "execution_count": null,
      "outputs": [
        {
          "output_type": "display_data",
          "data": {
            "text/html": [
              "\n",
              "     <input type=\"file\" id=\"files-46382de3-41cb-4f81-9813-c6deb4b8f484\" name=\"files[]\" multiple disabled\n",
              "        style=\"border:none\" />\n",
              "     <output id=\"result-46382de3-41cb-4f81-9813-c6deb4b8f484\">\n",
              "      Upload widget is only available when the cell has been executed in the\n",
              "      current browser session. Please rerun this cell to enable.\n",
              "      </output>\n",
              "      <script src=\"/nbextensions/google.colab/files.js\"></script> "
            ],
            "text/plain": [
              "<IPython.core.display.HTML object>"
            ]
          },
          "metadata": {
            "tags": []
          }
        },
        {
          "output_type": "stream",
          "text": [
            "Saving forestfires.csv to forestfires (2).csv\n"
          ],
          "name": "stdout"
        }
      ]
    },
    {
      "cell_type": "markdown",
      "metadata": {
        "id": "r-Jl65Vs8Uij"
      },
      "source": [
        "#   Splitting Training Data"
      ]
    },
    {
      "cell_type": "code",
      "metadata": {
        "id": "jbx-RTqxvD1R"
      },
      "source": [
        "# -*- coding: utf-8 -*-\n",
        "\"\"\"# **Declaring the variables and formatting the UCI dataset**\"\"\"\n",
        "\n",
        "# Commented out IPython magic to ensure Python compatibility.\n",
        "# importing a bunch of library crap\n",
        "import pandas as pd\n",
        "import numpy as np\n",
        "import io\n",
        "import matplotlib.pyplot as plt\n",
        "from numpy.linalg import inv\n",
        "\n",
        "# We use panda to beautify the data+\n",
        "data = pd.read_csv(io.StringIO(uploaded['forestfires.csv'].decode('utf-8')))\n",
        "#data.describe()\n",
        "\n",
        "\"\"\"\n",
        "ATTRIBUTES:\n",
        "**temp** - temperature in Celsius degrees: 2.2 to 33.30\n",
        "**RH** - relative humidity in %: 15.0 to 100\n",
        "**wind** - wind speed in km/h: 0.40 to 9.40\n",
        "**rain** - outside rain in mm/m2 : 0.0 to 6.4\n",
        "\n",
        "**area** - the burned area of the forest (in ha): 0.00 to 1090.84\n",
        "\"\"\"\n",
        "#Sample Data\n",
        "#data.head(n=20)\n",
        "#data.hist()\n",
        "\n",
        "\"\"\"# **Dividing the data: train:80%, validation:10%, test:10%**\n",
        "## The Function\n",
        "\"\"\"\n",
        "# this function handles seeding of randomized set creation;\n",
        "# one should not rely on set splitting that doesn't randomize the sets\n",
        "def train_validate_test_split(df, train_percent=.8, validate_percent=.1, seed=None):\n",
        "    np.random.seed(seed)  #seeds the generator\n",
        "    perm = np.random.permutation(df.index)  #randomly permutate df.index, shuffles the data\n",
        "    len_dfIndex = len(df.index)\n",
        "    train_end = int(train_percent * len_dfIndex)\n",
        "    #the code uses the total number of data entries to split up the shuffled data into three ranges\n",
        "    #the first range will be the training set, which is established via the inputted training percent\n",
        "    #and multiplying it by the length of the data set to get the number of entries allocated to the\n",
        "    #training set and the ending index of the set\n",
        "    validate_end = int(validate_percent * len_dfIndex)  + train_end + 1\n",
        "    #validate_end = 52 + train_end\n",
        "    #the validation set has a range that starts at the end of the training set and uses a similar method\n",
        "    #as previously described\n",
        "    train = df.iloc[perm[:train_end]]\n",
        "    validate = df.iloc[perm[train_end:validate_end]]\n",
        "    test = df.iloc[perm[validate_end:]]\n",
        "    return train, validate, test\n",
        "\n",
        "# Setting the train, validate, and test variables; selecting 5 attributes\n",
        "train, validate, test = train_validate_test_split(data[['temp', 'RH', 'wind','rain','area']])\n",
        "#print(data[['temp', 'RH', 'wind','rain','area']])"
      ],
      "execution_count": null,
      "outputs": []
    },
    {
      "cell_type": "markdown",
      "metadata": {
        "id": "lnefGwQEvJw5"
      },
      "source": [
        "# Linear"
      ]
    },
    {
      "cell_type": "code",
      "metadata": {
        "id": "TViv9l227Xwg"
      },
      "source": [
        "\"\"\"# **Linear Regression**\n",
        "* Use equation 3.6 to find the betas. (https://prnt.sc/tdqghm)\n",
        "* Report the mean squared error (MSE) on the test dataset.\n",
        "\"\"\"\n",
        "\n",
        "import numpy as np\n",
        "from numpy.linalg import inv\n",
        "def baseline(train, test):\n",
        "  train_ones = np.ones([len(test['area']), 1])\n",
        "  test_ones = np.ones([len(test), 1])\n",
        "  train_input = np.concatenate((test_ones, test.iloc[:, 1:]), axis = 1).astype(float)\n",
        "  #print ('Training Data Input Size = ', train_input.shape) \n",
        "  \n",
        "  test_input = np.concatenate((test_ones, test.iloc[:, 1:]), axis = 1).astype(float)\n",
        "  #print ('Test Data Input Size =', train_input.shape) \n",
        "  test_output = np.array([test.iloc[:, 0]]).T\n",
        "  #print ('Test Data Output Size = ', test_output.shape)\n",
        "\n",
        "  meanArea = train['area'].mean()\n",
        "  train_output = meanArea * train_ones\n",
        "  #print (train_output)\n",
        "  MSE1 = (1/len(test_output)) * (np.sum((test_output - train_output)**2))\n",
        "  return MSE1\n",
        "\n",
        "#import numpy as np\n",
        "#from numpy.linalg import inv\n",
        "#Defining the Linear Regression Function\n",
        "def lr(train, test):\n",
        "  #Declaring column matrices of one for both the train and test data\n",
        "  train_ones = np.ones([len(train), 1])\n",
        "  test_ones = np.ones([len(test), 1])\n",
        "\n",
        "  #Concatenates the one column matrix onto the first column for both the train and test input data \n",
        "  #in order to obtain the intercept(constant) term.\n",
        "  train_input = np.concatenate((train_ones, train.iloc[:, 1:]), axis = 1).astype(float)\n",
        "  print ('Training Data Input Size = ', train_input.shape) \n",
        "  test_input = np.concatenate((test_ones, test.iloc[:, 1:]), axis = 1).astype(float)\n",
        "  print ('Test Data Input Size = ', test_input.shape) \n",
        "\n",
        "  #Declares the output train and test matrices using matrix transpose\n",
        "  train_output = np.array([train.iloc[:, 0]]).T\n",
        "  print ('Training Data Output Size = ', train_output.shape)\n",
        "  test_output = np.array([test.iloc[:, 0]]).T\n",
        "  print ('Test Data Output Size = ', test_output.shape,'\\n')\n",
        "\n",
        "  #Solves for the betas (weights) by plugging into the unique closed form solution (Equation 3.6)\n",
        "  beta = np.linalg.inv(train_input.T@train_input)@(train_input.T@train_output)\n",
        "  \n",
        "  #Solves for ŷ by using calculated beta values through matrix multiplication (Equation 3.7)\n",
        "  output_hat = test_input@beta \n",
        " \n",
        "  #print (first_row(['temp', 'RH', 'wind','rain','area']))\n",
        "  #Solves for the mean squared error\n",
        "  MSE = (1/len(test_output)) * (np.sum((test_output - output_hat)**2))\n",
        "  return beta, output_hat, MSE"
      ],
      "execution_count": null,
      "outputs": []
    },
    {
      "cell_type": "markdown",
      "metadata": {
        "id": "qjSdjxvpvVkf"
      },
      "source": [
        "## Linear Output"
      ]
    },
    {
      "cell_type": "code",
      "metadata": {
        "id": "dJk5eEHLufvh"
      },
      "source": [
        "MSE1 = baseline(train,test)\n",
        "print(\"MSE for baseline is\", MSE1,'\\n')\n",
        "[beta, output_hat, MSE] = lr(train,test)\n",
        "print(\"\\nβ:\", beta)\n",
        "print(\"\\nŷ:\", output_hat)\n",
        "print(\"\\nMSE:\", MSE)\n",
        "percent = MSE/MSE1*100\n",
        "print(\"Linear regression is\",percent,\"% better than baseline (prediction based off average of outputs) for this particular selection of data.\")\n"
      ],
      "execution_count": null,
      "outputs": []
    },
    {
      "cell_type": "code",
      "metadata": {
        "id": "uwB78JRzBVX4",
        "colab": {
          "base_uri": "https://localhost:8080/",
          "height": 167
        },
        "outputId": "32d082d8-1a98-478d-a104-0033c15a007e"
      },
      "source": [
        "train"
      ],
      "execution_count": null,
      "outputs": [
        {
          "output_type": "error",
          "ename": "NameError",
          "evalue": "ignored",
          "traceback": [
            "\u001b[0;31m---------------------------------------------------------------------------\u001b[0m",
            "\u001b[0;31mNameError\u001b[0m                                 Traceback (most recent call last)",
            "\u001b[0;32m<ipython-input-1-3b77fa18a747>\u001b[0m in \u001b[0;36m<module>\u001b[0;34m()\u001b[0m\n\u001b[0;32m----> 1\u001b[0;31m \u001b[0mtrain\u001b[0m\u001b[0;34m.\u001b[0m\u001b[0mhead\u001b[0m\u001b[0;34m(\u001b[0m\u001b[0;34m)\u001b[0m\u001b[0;34m\u001b[0m\u001b[0;34m\u001b[0m\u001b[0m\n\u001b[0m",
            "\u001b[0;31mNameError\u001b[0m: name 'train' is not defined"
          ]
        }
      ]
    },
    {
      "cell_type": "code",
      "metadata": {
        "id": "ePNU8p0z4DRe"
      },
      "source": [
        "validate\n",
        "#51"
      ],
      "execution_count": null,
      "outputs": []
    },
    {
      "cell_type": "code",
      "metadata": {
        "id": "1YzMUFXBEcjL"
      },
      "source": [
        "test\n",
        "#53"
      ],
      "execution_count": null,
      "outputs": []
    },
    {
      "cell_type": "code",
      "metadata": {
        "id": "66ICsS6M5tg1"
      },
      "source": [
        "print(data)"
      ],
      "execution_count": null,
      "outputs": []
    },
    {
      "cell_type": "markdown",
      "metadata": {
        "id": "Ke9agjpdu5Xf"
      },
      "source": [
        "## Ridge"
      ]
    },
    {
      "cell_type": "code",
      "metadata": {
        "id": "tGWkruIOshKh"
      },
      "source": [
        "#Ridge Regression\n",
        "\"\"\"\n",
        "Use equation 3.44 to find the betas. (https://prnt.sc/tdqhgy)\n",
        "Select the optimal value of Lambda by cross-validation using the validation dataset\n",
        "Report the mean squared error on the test dataset, using the best lambda you found on the validation set.\n",
        "DO NOT USE THE TEST DATASET TO CHOOSE LAMBDA.\n",
        "\"\"\"\n",
        "\n",
        "#Ridge = sum of square residuals + (lambda * (slope^2))\n",
        "\n",
        "#A List of lambda values that will be used when performing Ridge Regression and Lasso Regression \n",
        "lambd_list = [0.0001, 0.0004, 0.0007, 0.001, 0.004, 0.007, 0.01, 0.04, 0.07, 0.1, 0.4, 0.7, 0.9, 0.99, 0.999]\n",
        "\n",
        "#Declaring a list that will contain all the calculated Mean Square Error Values for each lambda value\n",
        "MSE_list = []\n",
        "\n",
        "#Defining the Normalize Function\n",
        "def normalize(data):\n",
        "  norm_data = (data - data.min()) / (data.max() - data.min())\n",
        "  return norm_data\n",
        "\n",
        "#Defining the Ridge Regression Function\n",
        "def rr(train, validate, test):  \n",
        "  #Applying normalize function to \"normalize\" the data\n",
        "  train_input = normalize(np.array(train.iloc[:, 1:]))\n",
        "  print(\"Normalized Training Data Input Size: \", train_input.shape)\n",
        "  train_output = normalize(np.array(train.iloc[:, 0]))\n",
        "  print(\"Normalized Training Data Output Size: \", train_output.shape)\n",
        "\n",
        "  validate_input = normalize(np.array(validate.iloc[:, 1:]))\n",
        "  print(\"Normalized Validation Data Input Size: \", validate_input.shape)\n",
        "  validate_output = normalize(np.array(validate.iloc[:, 0]))\n",
        "  print(\"Normalized Validation Data Output Size: \", validate_output.shape)\n",
        "\n",
        "  test_input = normalize(np.array(test.iloc[:, 1:]))\n",
        "  print(\"Normalized Test Data Input Size: \", test_input.shape)\n",
        "  test_output = normalize(np.array(test.iloc[:, 0]))\n",
        "  print(\"Normalized Test Data Output Size: \", test_output.shape)\n",
        "\n",
        "  #Iterates through the list of lambdas in order to eventually find the smallest mean squared error value\n",
        "  for lambd in lambd_list:\n",
        "    #Calculating the ridge regression beta values (weights) for each lambda \n",
        "    ridgebeta = (np.linalg.inv((np.identity(len(train_input.T))*lambd) + (train_input.T@train_input)))@(train_input.T)@(train_output)\n",
        "    output_hat = validate_input@ridgebeta\n",
        "    #Calculates the mean squared error values and adds them to the mean squared error array list\n",
        "    MSE = (1/len(validate_output)) * (np.sum((validate_output - output_hat)**2))\n",
        "    MSE_list.append(MSE)\n",
        "  \n",
        "  #Solves for the optimal lambda value by using the smallest mean squared error value found \n",
        "  optimal_lambd = lambd_list[MSE_list.index(min(MSE_list))]\n",
        "  #Retrains the model using the optimal lambda value by calculating the new betas (weights)\n",
        "  new_ridgebeta = (np.linalg.inv((np.identity(len(train_input.T))*optimal_lambd) + (train_input.T@train_input)))@(train_input.T)@(train_output)\n",
        "  #Calculates updated ŷ values \n",
        "  output_hat = test_input@new_ridgebeta\n",
        "  print(\"Ridge β Size: \", ridgebeta.shape)\n",
        "  print(\"Optimal λ: \", optimal_lambd)\n",
        "  print(\"New Ridge β Size: \", new_ridgebeta.shape)\n",
        "  print(\"ŷ Size: \", output_hat.shape)\n",
        "  #Calculates the final mean squared error value\n",
        "  test = test_output - output_hat\n",
        "  MSE_final = (1/len(test_output)) * (np.sum((test_output - output_hat)**2))\n",
        "  return train_input, train_output, MSE_final, output_hat, optimal_lambd, new_ridgebeta, ridgebeta"
      ],
      "execution_count": null,
      "outputs": []
    },
    {
      "cell_type": "markdown",
      "metadata": {
        "id": "aLl861QrvZZw"
      },
      "source": [
        "## Ridge Output"
      ]
    },
    {
      "cell_type": "code",
      "metadata": {
        "id": "Etqd2GWtvbPy",
        "colab": {
          "base_uri": "https://localhost:8080/",
          "height": 230
        },
        "outputId": "3d719199-adce-445d-fa0b-d1185c212389"
      },
      "source": [
        "train_input, train_output, MSE_final, output_hat, optimal_lambd, new_ridgebeta, ridgebeta = rr(train,test,validate)\n",
        "print(\"Final Ridge β:\", new_ridgebeta)\n",
        "print(\"Final MSE:\", MSE_final)"
      ],
      "execution_count": null,
      "outputs": [
        {
          "output_type": "stream",
          "text": [
            "Normalized Training Data Input Size:  (413, 4)\n",
            "Normalized Training Data Output Size:  (413,)\n",
            "Normalized Validation Data Input Size:  (52, 4)\n",
            "Normalized Validation Data Output Size:  (52,)\n",
            "Normalized Test Data Input Size:  (52, 4)\n",
            "Normalized Test Data Output Size:  (52,)\n",
            "Ridge β Size:  (4,)\n",
            "Optimal λ:  0.999\n",
            "New Ridge β Size:  (4,)\n",
            "ŷ Size:  (52,)\n",
            "Final Ridge β: [4.62229178e+00 4.68599728e-01 7.53841105e-04 9.00698063e-01]\n",
            "Final MSE: 4.0424204500276275\n"
          ],
          "name": "stdout"
        }
      ]
    },
    {
      "cell_type": "markdown",
      "metadata": {
        "id": "PrEdkEMCu73I"
      },
      "source": [
        "#  Lasso"
      ]
    },
    {
      "cell_type": "code",
      "metadata": {
        "id": "naIyugybskf1"
      },
      "source": [
        "#Lasso Regression\n",
        "'''\n",
        "Use one of the built-in packages in sci-kit learn or MATLAB to do a Lasso regression.\n",
        "Select the optimal value of lambda as in part b) and also display a Lasso plot (there are built in functions for Lasso plot in sci-kit/MATLAB).\n",
        "Which features did the Lasso select for you to include in your model? Do these features make sense?\n",
        "'''\n",
        "\n",
        "#Lasso = sum of square residuals + (lambda * abs(slope))\n",
        "#Lasso excludes useless vars from the equation, slightly better than Ridge at reducing variance in models with lots of useless vars\n",
        "#Ridge is better when most variables are useful\n",
        "\n",
        "from sklearn import linear_model\n",
        "#A List of lambda values that will be used when performing Lasso Regression \n",
        "lambd_list = [0.0001, 0.0004, 0.0007, 0.001, 0.004, 0.007, 0.01, 0.04, 0.07, 0.1, 0.4, 0.7]\n",
        "\n",
        "#Declaring a list that will contain all the calculated Mean Square Error Values for each lambda value\n",
        "MSE_list = []\n",
        "\n",
        "def lasso(train, validate, test):\n",
        "  #Applying normalize function to \"normalize\" the data\n",
        "  train_input = normalize(np.array(train.iloc[:, 1:]))\n",
        "  train_output = normalize(np.array(train.iloc[:, 0]))\n",
        "\n",
        "  validate_input = normalize(np.array(validate.iloc[:, 1:]))\n",
        "  validate_output = normalize(np.array(validate.iloc[:, 0]))\n",
        "\n",
        "  test_input = normalize(np.array(test.iloc[:, 1:]))\n",
        "  test_output = normalize(np.array(test.iloc[:, 0]))\n",
        "  \n",
        "  #Iterates through the list of lambdas in order to eventually find the smallest mean squared error value\n",
        "  for lambd in lambd_list:\n",
        "    #Declares the classifier (clf) for each lambda value, which is an estimator instance that stores the model, by using the lasso scikit-learn function\n",
        "    lasso_clf = linear_model.Lasso(alpha = lambd)\n",
        "    #Takes in the training input and training output data and \"fits\" it as features & labels into the model using the scikit-learn \"fit\" function\n",
        "    lasso_clf.fit(train_input, train_output)\n",
        "    #Takes in validation input data to \"predict\" ŷ values using the scikit-learn \"predict\" function\n",
        "    output_hat = lasso_clf.predict(validate_input)\n",
        "    #MSE\n",
        "    MSE = (1/len(validate_output)) * (np.sum((test_output - output_hat)**2))\n",
        "    #print(\"MSE: \", MSE)\n",
        "    MSE_list.append(MSE)\n",
        "\n",
        "  #Solves for the optimal lambda value by using the smallest mean squared error value found \n",
        "  optimal_lambd = lambd_list[MSE_list.index(min(MSE_list))]\n",
        "  #Retrains the model using the optimal lambda value \n",
        "  new_lasso_clf = linear_model.Lasso(alpha = optimal_lambd)\n",
        "  new_lasso_clf.fit(train_input, train_output)\n",
        "  output_hat = new_lasso_clf.predict(test_input)\n",
        "  #Calculates the final mean squared error value\n",
        "  MSE_final = (1/len(test_output)) * (np.sum((test_output - output_hat)**2))\n",
        "\n",
        "  lasso_alpha_list, lasso_coefficient_list, _ = linear_model.lasso_path(train_input, train_output, eps = 5e-6)\n",
        "  figure, axis = plt.subplots(figsize = [16, 10])\n",
        "  lasso_negative_log_alphas = -np.log10(lasso_alpha_list)\n",
        "\n",
        "  for lasso_coefficient in lasso_coefficient_list:\n",
        "    axis.plot(lasso_negative_log_alphas, lasso_coefficient.T)\n",
        "\n",
        "  axis.axvline( x = -np.log10(optimal_lambd), linestyle = \"--\")\n",
        "  plt.xlabel(\"-Log(α)\")\n",
        "  plt.ylabel(\"coefficients\")\n",
        "  plt.axis(\"tight\")\n",
        "  plt.title(\"Lasso Paths\")\n",
        "  plt.show()\n",
        "  \n",
        "  return optimal_lambd, MSE_final, output_hat"
      ],
      "execution_count": null,
      "outputs": []
    },
    {
      "cell_type": "markdown",
      "metadata": {
        "id": "aNc-ccRgveex"
      },
      "source": [
        "## Lasso Output"
      ]
    },
    {
      "cell_type": "code",
      "metadata": {
        "id": "olcF63mj-JoE",
        "colab": {
          "base_uri": "https://localhost:8080/",
          "height": 816
        },
        "outputId": "60a1f911-0aa5-4871-8176-c4545249f914"
      },
      "source": [
        "optimal_lambda, MSE_final, output_hat = lasso(train, validate, test)\n",
        "print(\"Optimal lambda:\", optimal_lambda)\n",
        "print(\"MSE:\", MSE_final)\n",
        "print(\"output_hat\", output_hat)\n",
        "\n",
        "%matplotlib inline\n",
        "from matplotlib.pylab import rcParams"
      ],
      "execution_count": null,
      "outputs": [
        {
          "output_type": "display_data",
          "data": {
            "image/png": "[encoded data removed]",
            "text/plain": [
              "<Figure size 1152x720 with 1 Axes>"
            ]
          },
          "metadata": {
            "tags": [],
            "needs_background": "light"
          }
        },
        {
          "output_type": "stream",
          "text": [
            "Optimal lambda: 0.004\n",
            "MSE: 0.04218917716278522\n",
            "output_hat [0.53616779 0.53616779 0.53616779 0.53616779 0.53616779 0.53616779\n",
            " 0.53616779 0.53616779 0.53616779 0.53616779 0.53616779 0.53616779\n",
            " 0.53616779 0.53616779 0.53616779 0.53616779 0.53616779 0.53616779\n",
            " 0.53616779 0.53616779 0.53616779 0.53616779 0.53616779 0.53616779\n",
            " 0.53616779 0.53616779 0.53616779 0.53616779 0.53616779 0.53616779\n",
            " 0.53616779 0.53616779 0.53616779 0.53616779 0.53616779 0.53616779\n",
            " 0.53616779 0.53616779 0.53616779 0.53616779 0.53616779 0.53616779\n",
            " 0.53616779 0.53616779 0.53616779 0.53616779 0.53616779 0.53616779\n",
            " 0.53616779 0.53616779 0.53616779 0.53616779]\n"
          ],
          "name": "stdout"
        }
      ]
    }
  ]
}